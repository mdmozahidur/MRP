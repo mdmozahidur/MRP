{
 "cells": [
  {
   "cell_type": "markdown",
   "metadata": {},
   "source": [
    "# Major Research Project - Dataset version 2 creation"
   ]
  },
  {
   "cell_type": "markdown",
   "metadata": {},
   "source": [
    "### Md Mozahidur Rahman - 501002626"
   ]
  },
  {
   "cell_type": "code",
   "execution_count": 1,
   "metadata": {},
   "outputs": [],
   "source": [
    "import numpy as np\n",
    "import pandas as pd\n",
    "import warnings\n",
    "warnings.filterwarnings(\"ignore\")\n",
    "import matplotlib.pyplot as plt\n",
    "import plotly.graph_objects as go\n",
    "import seaborn as sns\n",
    "sns.set_style(\"whitegrid\")\n",
    "from matplotlib import pyplot"
   ]
  },
  {
   "cell_type": "markdown",
   "metadata": {},
   "source": [
    "### Data load"
   ]
  },
  {
   "cell_type": "code",
   "execution_count": 2,
   "metadata": {
    "scrolled": true
   },
   "outputs": [
    {
     "data": {
      "text/html": [
       "<div>\n",
       "<style scoped>\n",
       "    .dataframe tbody tr th:only-of-type {\n",
       "        vertical-align: middle;\n",
       "    }\n",
       "\n",
       "    .dataframe tbody tr th {\n",
       "        vertical-align: top;\n",
       "    }\n",
       "\n",
       "    .dataframe thead th {\n",
       "        text-align: right;\n",
       "    }\n",
       "</style>\n",
       "<table border=\"1\" class=\"dataframe\">\n",
       "  <thead>\n",
       "    <tr style=\"text-align: right;\">\n",
       "      <th></th>\n",
       "      <th>Unnamed: 0</th>\n",
       "      <th>Type</th>\n",
       "      <th>Days for shipping (real)</th>\n",
       "      <th>Days for shipment (scheduled)</th>\n",
       "      <th>Benefit per order</th>\n",
       "      <th>Category Id</th>\n",
       "      <th>Category Name</th>\n",
       "      <th>Customer City</th>\n",
       "      <th>Customer Country</th>\n",
       "      <th>Customer Id</th>\n",
       "      <th>...</th>\n",
       "      <th>Product Name</th>\n",
       "      <th>Product Price</th>\n",
       "      <th>Shipping Mode</th>\n",
       "      <th>Customer Full Name</th>\n",
       "      <th>order_year</th>\n",
       "      <th>order_month</th>\n",
       "      <th>order_week_day</th>\n",
       "      <th>order_hour</th>\n",
       "      <th>fraud</th>\n",
       "      <th>late_delivery</th>\n",
       "    </tr>\n",
       "  </thead>\n",
       "  <tbody>\n",
       "    <tr>\n",
       "      <th>0</th>\n",
       "      <td>0</td>\n",
       "      <td>DEBIT</td>\n",
       "      <td>3</td>\n",
       "      <td>4</td>\n",
       "      <td>91.250000</td>\n",
       "      <td>73</td>\n",
       "      <td>Sporting Goods</td>\n",
       "      <td>Caguas</td>\n",
       "      <td>Puerto Rico</td>\n",
       "      <td>20755</td>\n",
       "      <td>...</td>\n",
       "      <td>Smart watch</td>\n",
       "      <td>327.75</td>\n",
       "      <td>Standard Class</td>\n",
       "      <td>CallyHolloway</td>\n",
       "      <td>2018</td>\n",
       "      <td>1</td>\n",
       "      <td>2</td>\n",
       "      <td>22</td>\n",
       "      <td>0</td>\n",
       "      <td>0</td>\n",
       "    </tr>\n",
       "    <tr>\n",
       "      <th>1</th>\n",
       "      <td>1</td>\n",
       "      <td>TRANSFER</td>\n",
       "      <td>5</td>\n",
       "      <td>4</td>\n",
       "      <td>-249.089996</td>\n",
       "      <td>73</td>\n",
       "      <td>Sporting Goods</td>\n",
       "      <td>Caguas</td>\n",
       "      <td>Puerto Rico</td>\n",
       "      <td>19492</td>\n",
       "      <td>...</td>\n",
       "      <td>Smart watch</td>\n",
       "      <td>327.75</td>\n",
       "      <td>Standard Class</td>\n",
       "      <td>IreneLuna</td>\n",
       "      <td>2018</td>\n",
       "      <td>1</td>\n",
       "      <td>5</td>\n",
       "      <td>12</td>\n",
       "      <td>0</td>\n",
       "      <td>1</td>\n",
       "    </tr>\n",
       "    <tr>\n",
       "      <th>2</th>\n",
       "      <td>2</td>\n",
       "      <td>CASH</td>\n",
       "      <td>4</td>\n",
       "      <td>4</td>\n",
       "      <td>-247.779999</td>\n",
       "      <td>73</td>\n",
       "      <td>Sporting Goods</td>\n",
       "      <td>San Jose</td>\n",
       "      <td>EE. UU.</td>\n",
       "      <td>19491</td>\n",
       "      <td>...</td>\n",
       "      <td>Smart watch</td>\n",
       "      <td>327.75</td>\n",
       "      <td>Standard Class</td>\n",
       "      <td>GillianMaldonado</td>\n",
       "      <td>2018</td>\n",
       "      <td>1</td>\n",
       "      <td>5</td>\n",
       "      <td>12</td>\n",
       "      <td>0</td>\n",
       "      <td>0</td>\n",
       "    </tr>\n",
       "    <tr>\n",
       "      <th>3</th>\n",
       "      <td>3</td>\n",
       "      <td>DEBIT</td>\n",
       "      <td>3</td>\n",
       "      <td>4</td>\n",
       "      <td>22.860001</td>\n",
       "      <td>73</td>\n",
       "      <td>Sporting Goods</td>\n",
       "      <td>Los Angeles</td>\n",
       "      <td>EE. UU.</td>\n",
       "      <td>19490</td>\n",
       "      <td>...</td>\n",
       "      <td>Smart watch</td>\n",
       "      <td>327.75</td>\n",
       "      <td>Standard Class</td>\n",
       "      <td>TanaTate</td>\n",
       "      <td>2018</td>\n",
       "      <td>1</td>\n",
       "      <td>5</td>\n",
       "      <td>11</td>\n",
       "      <td>0</td>\n",
       "      <td>0</td>\n",
       "    </tr>\n",
       "    <tr>\n",
       "      <th>4</th>\n",
       "      <td>4</td>\n",
       "      <td>PAYMENT</td>\n",
       "      <td>2</td>\n",
       "      <td>4</td>\n",
       "      <td>134.210007</td>\n",
       "      <td>73</td>\n",
       "      <td>Sporting Goods</td>\n",
       "      <td>Caguas</td>\n",
       "      <td>Puerto Rico</td>\n",
       "      <td>19489</td>\n",
       "      <td>...</td>\n",
       "      <td>Smart watch</td>\n",
       "      <td>327.75</td>\n",
       "      <td>Standard Class</td>\n",
       "      <td>OrliHendricks</td>\n",
       "      <td>2018</td>\n",
       "      <td>1</td>\n",
       "      <td>5</td>\n",
       "      <td>11</td>\n",
       "      <td>0</td>\n",
       "      <td>0</td>\n",
       "    </tr>\n",
       "  </tbody>\n",
       "</table>\n",
       "<p>5 rows × 36 columns</p>\n",
       "</div>"
      ],
      "text/plain": [
       "   Unnamed: 0      Type  Days for shipping (real)  \\\n",
       "0           0     DEBIT                         3   \n",
       "1           1  TRANSFER                         5   \n",
       "2           2      CASH                         4   \n",
       "3           3     DEBIT                         3   \n",
       "4           4   PAYMENT                         2   \n",
       "\n",
       "   Days for shipment (scheduled)  Benefit per order  Category Id  \\\n",
       "0                              4          91.250000           73   \n",
       "1                              4        -249.089996           73   \n",
       "2                              4        -247.779999           73   \n",
       "3                              4          22.860001           73   \n",
       "4                              4         134.210007           73   \n",
       "\n",
       "    Category Name Customer City Customer Country  Customer Id  ...  \\\n",
       "0  Sporting Goods        Caguas      Puerto Rico        20755  ...   \n",
       "1  Sporting Goods        Caguas      Puerto Rico        19492  ...   \n",
       "2  Sporting Goods      San Jose          EE. UU.        19491  ...   \n",
       "3  Sporting Goods   Los Angeles          EE. UU.        19490  ...   \n",
       "4  Sporting Goods        Caguas      Puerto Rico        19489  ...   \n",
       "\n",
       "   Product Name Product Price   Shipping Mode  Customer Full Name order_year  \\\n",
       "0  Smart watch         327.75  Standard Class       CallyHolloway       2018   \n",
       "1  Smart watch         327.75  Standard Class           IreneLuna       2018   \n",
       "2  Smart watch         327.75  Standard Class    GillianMaldonado       2018   \n",
       "3  Smart watch         327.75  Standard Class            TanaTate       2018   \n",
       "4  Smart watch         327.75  Standard Class       OrliHendricks       2018   \n",
       "\n",
       "  order_month order_week_day order_hour  fraud  late_delivery  \n",
       "0           1              2         22      0              0  \n",
       "1           1              5         12      0              1  \n",
       "2           1              5         12      0              0  \n",
       "3           1              5         11      0              0  \n",
       "4           1              5         11      0              0  \n",
       "\n",
       "[5 rows x 36 columns]"
      ]
     },
     "execution_count": 2,
     "metadata": {},
     "output_type": "execute_result"
    }
   ],
   "source": [
    "#Test.csv \n",
    "#df=pd.read_csv('Test.csv')\n",
    "# dataset_after_analysis.csv is cleaned data from main dataset\n",
    "df1=pd.read_csv('dataset_after_analysis.csv',encoding= 'unicode_escape')\n",
    "df1.head()"
   ]
  },
  {
   "cell_type": "markdown",
   "metadata": {},
   "source": [
    "# Data Prepocessing"
   ]
  },
  {
   "cell_type": "code",
   "execution_count": 3,
   "metadata": {
    "scrolled": true
   },
   "outputs": [
    {
     "data": {
      "text/plain": [
       "(180519, 36)"
      ]
     },
     "execution_count": 3,
     "metadata": {},
     "output_type": "execute_result"
    }
   ],
   "source": [
    "df1.shape"
   ]
  },
  {
   "cell_type": "code",
   "execution_count": 4,
   "metadata": {},
   "outputs": [
    {
     "data": {
      "text/plain": [
       "Unnamed: 0                       0\n",
       "Type                             0\n",
       "Days for shipping (real)         0\n",
       "Days for shipment (scheduled)    0\n",
       "Benefit per order                0\n",
       "Category Id                      0\n",
       "Category Name                    0\n",
       "Customer City                    0\n",
       "Customer Country                 0\n",
       "Customer Id                      0\n",
       "Customer Segment                 0\n",
       "Customer State                   0\n",
       "Customer Zipcode                 0\n",
       "Department Id                    0\n",
       "Department Name                  0\n",
       "Market                           0\n",
       "Order City                       0\n",
       "Order Country                    0\n",
       "Order Id                         0\n",
       "Order Item Discount              0\n",
       "Order Item Discount Rate         0\n",
       "Order Item Profit Ratio          0\n",
       "Order Item Quantity              0\n",
       "Sales                            0\n",
       "Order Region                     0\n",
       "Order State                      0\n",
       "Product Name                     0\n",
       "Product Price                    0\n",
       "Shipping Mode                    0\n",
       "Customer Full Name               0\n",
       "order_year                       0\n",
       "order_month                      0\n",
       "order_week_day                   0\n",
       "order_hour                       0\n",
       "fraud                            0\n",
       "late_delivery                    0\n",
       "dtype: int64"
      ]
     },
     "execution_count": 4,
     "metadata": {},
     "output_type": "execute_result"
    }
   ],
   "source": [
    "df1.apply(lambda x: sum(x.isnull())) #Checking missing values"
   ]
  },
  {
   "cell_type": "code",
   "execution_count": 5,
   "metadata": {
    "scrolled": true
   },
   "outputs": [
    {
     "data": {
      "text/html": [
       "<div>\n",
       "<style scoped>\n",
       "    .dataframe tbody tr th:only-of-type {\n",
       "        vertical-align: middle;\n",
       "    }\n",
       "\n",
       "    .dataframe tbody tr th {\n",
       "        vertical-align: top;\n",
       "    }\n",
       "\n",
       "    .dataframe thead th {\n",
       "        text-align: right;\n",
       "    }\n",
       "</style>\n",
       "<table border=\"1\" class=\"dataframe\">\n",
       "  <thead>\n",
       "    <tr style=\"text-align: right;\">\n",
       "      <th></th>\n",
       "      <th>Customer Country</th>\n",
       "      <th>order_year</th>\n",
       "      <th>Population Customer Country</th>\n",
       "      <th>Unemployment Rate Customer Country</th>\n",
       "      <th>Gdp per Capita Customer Country</th>\n",
       "    </tr>\n",
       "  </thead>\n",
       "  <tbody>\n",
       "    <tr>\n",
       "      <th>0</th>\n",
       "      <td>Puerto Rico</td>\n",
       "      <td>2018</td>\n",
       "      <td>3319269</td>\n",
       "      <td>9.2</td>\n",
       "      <td>31605</td>\n",
       "    </tr>\n",
       "    <tr>\n",
       "      <th>1</th>\n",
       "      <td>Puerto Rico</td>\n",
       "      <td>2017</td>\n",
       "      <td>3366408</td>\n",
       "      <td>10.8</td>\n",
       "      <td>31109</td>\n",
       "    </tr>\n",
       "    <tr>\n",
       "      <th>2</th>\n",
       "      <td>Puerto Rico</td>\n",
       "      <td>2016</td>\n",
       "      <td>3432740</td>\n",
       "      <td>11.8</td>\n",
       "      <td>30627</td>\n",
       "    </tr>\n",
       "    <tr>\n",
       "      <th>3</th>\n",
       "      <td>Puerto Rico</td>\n",
       "      <td>2015</td>\n",
       "      <td>3497335</td>\n",
       "      <td>12.0</td>\n",
       "      <td>29763</td>\n",
       "    </tr>\n",
       "    <tr>\n",
       "      <th>4</th>\n",
       "      <td>EE. UU.</td>\n",
       "      <td>2018</td>\n",
       "      <td>332140037</td>\n",
       "      <td>3.9</td>\n",
       "      <td>62805</td>\n",
       "    </tr>\n",
       "  </tbody>\n",
       "</table>\n",
       "</div>"
      ],
      "text/plain": [
       "  Customer Country  order_year  Population Customer Country  \\\n",
       "0      Puerto Rico        2018                      3319269   \n",
       "1      Puerto Rico        2017                      3366408   \n",
       "2      Puerto Rico        2016                      3432740   \n",
       "3      Puerto Rico        2015                      3497335   \n",
       "4          EE. UU.        2018                    332140037   \n",
       "\n",
       "   Unemployment Rate Customer Country  Gdp per Capita Customer Country  \n",
       "0                                 9.2                            31605  \n",
       "1                                10.8                            31109  \n",
       "2                                11.8                            30627  \n",
       "3                                12.0                            29763  \n",
       "4                                 3.9                            62805  "
      ]
     },
     "execution_count": 5,
     "metadata": {},
     "output_type": "execute_result"
    }
   ],
   "source": [
    "# indicator.csv has been made from world historical dataset. population, unemployment rate and gdp per capita has selected. \n",
    "df2=pd.read_csv('indicator.csv',encoding= 'unicode_escape')\n",
    "df2.head()"
   ]
  },
  {
   "cell_type": "markdown",
   "metadata": {},
   "source": [
    "Two dataset has merged where customer country and year is same."
   ]
  },
  {
   "cell_type": "code",
   "execution_count": 6,
   "metadata": {},
   "outputs": [],
   "source": [
    "dataset_version2=pd.merge(df1,df2,on=['Customer Country','order_year'])"
   ]
  },
  {
   "cell_type": "code",
   "execution_count": 7,
   "metadata": {},
   "outputs": [
    {
     "data": {
      "text/plain": [
       "(180519, 39)"
      ]
     },
     "execution_count": 7,
     "metadata": {},
     "output_type": "execute_result"
    }
   ],
   "source": [
    "dataset_version2.shape"
   ]
  },
  {
   "cell_type": "code",
   "execution_count": 8,
   "metadata": {
    "scrolled": true
   },
   "outputs": [
    {
     "data": {
      "text/plain": [
       "Unnamed: 0                            0\n",
       "Type                                  0\n",
       "Days for shipping (real)              0\n",
       "Days for shipment (scheduled)         0\n",
       "Benefit per order                     0\n",
       "Category Id                           0\n",
       "Category Name                         0\n",
       "Customer City                         0\n",
       "Customer Country                      0\n",
       "Customer Id                           0\n",
       "Customer Segment                      0\n",
       "Customer State                        0\n",
       "Customer Zipcode                      0\n",
       "Department Id                         0\n",
       "Department Name                       0\n",
       "Market                                0\n",
       "Order City                            0\n",
       "Order Country                         0\n",
       "Order Id                              0\n",
       "Order Item Discount                   0\n",
       "Order Item Discount Rate              0\n",
       "Order Item Profit Ratio               0\n",
       "Order Item Quantity                   0\n",
       "Sales                                 0\n",
       "Order Region                          0\n",
       "Order State                           0\n",
       "Product Name                          0\n",
       "Product Price                         0\n",
       "Shipping Mode                         0\n",
       "Customer Full Name                    0\n",
       "order_year                            0\n",
       "order_month                           0\n",
       "order_week_day                        0\n",
       "order_hour                            0\n",
       "fraud                                 0\n",
       "late_delivery                         0\n",
       "Population Customer Country           0\n",
       "Unemployment Rate Customer Country    0\n",
       "Gdp per Capita Customer Country       0\n",
       "dtype: int64"
      ]
     },
     "execution_count": 8,
     "metadata": {},
     "output_type": "execute_result"
    }
   ],
   "source": [
    "dataset_version2.apply(lambda x: sum(x.isnull()))"
   ]
  },
  {
   "cell_type": "code",
   "execution_count": 9,
   "metadata": {},
   "outputs": [],
   "source": [
    "# data_version2.csv will be used in data model that contain external bias."
   ]
  },
  {
   "cell_type": "code",
   "execution_count": 10,
   "metadata": {},
   "outputs": [],
   "source": [
    "dataset_version2.to_csv('data_version2.csv')"
   ]
  },
  {
   "cell_type": "code",
   "execution_count": null,
   "metadata": {},
   "outputs": [],
   "source": []
  }
 ],
 "metadata": {
  "kernelspec": {
   "display_name": "Python 3",
   "language": "python",
   "name": "python3"
  },
  "language_info": {
   "codemirror_mode": {
    "name": "ipython",
    "version": 3
   },
   "file_extension": ".py",
   "mimetype": "text/x-python",
   "name": "python",
   "nbconvert_exporter": "python",
   "pygments_lexer": "ipython3",
   "version": "3.8.5"
  }
 },
 "nbformat": 4,
 "nbformat_minor": 5
}
